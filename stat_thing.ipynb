{
 "cells": [
  {
   "cell_type": "code",
   "execution_count": 29,
   "metadata": {
    "collapsed": true
   },
   "outputs": [],
   "source": [
    "%matplotlib inline  \n",
    "\n",
    "import numpy as np\n",
    "import random\n",
    "import  matplotlib.pyplot as plt"
   ]
  },
  {
   "cell_type": "code",
   "execution_count": 57,
   "metadata": {},
   "outputs": [
    {
     "name": "stdout",
     "output_type": "stream",
     "text": [
      "1\n",
      "501\n",
      "1001\n",
      "1501\n",
      "2001\n",
      "2501\n",
      "3001\n",
      "3501\n",
      "4001\n",
      "4501\n",
      "5001\n",
      "5501\n",
      "6001\n",
      "6501\n",
      "7001\n",
      "7501\n",
      "8001\n",
      "8501\n",
      "9001\n",
      "9501\n",
      "10001\n",
      "10501\n",
      "11001\n",
      "11501\n",
      "12001\n",
      "12501\n",
      "13001\n",
      "13501\n",
      "14001\n",
      "14501\n"
     ]
    },
    {
     "data": {
      "image/png": "[encoded data removed]",
      "text/plain": [
       "<Figure size 432x288 with 1 Axes>"
      ]
     },
     "metadata": {},
     "output_type": "display_data"
    },
    {
     "data": {
      "image/png": "[encoded data removed]",
      "text/plain": [
       "<Figure size 432x288 with 1 Axes>"
      ]
     },
     "metadata": {},
     "output_type": "display_data"
    },
    {
     "name": "stdout",
     "output_type": "stream",
     "text": [
      "mean=1.0159\n",
      " \n",
      "Theory\n",
      "lower=0.9995 upper=1.0323\n",
      " \n",
      "Bootstrapping\n",
      "lower=0.9994 upper=1.0323\n"
     ]
    }
   ],
   "source": [
    "f, ax = plt.subplots()\n",
    "n_max=15000\n",
    "n_step=500\n",
    "for n in range(1,n_max, n_step):\n",
    "    d=np.random.exponential(size=n)\n",
    "\n",
    "    bootstrapped_means=[]\n",
    "    print(n)\n",
    "    for i in range(n):\n",
    "        bootstrap = np.random.choice(d, size=len(d))\n",
    "        bootstrapped_means.append(np.mean(bootstrap))\n",
    "\n",
    "    lower_bs = np.percentile(bootstrapped_means, 2.5)\n",
    "    upper_bs = np.percentile(bootstrapped_means, 97.5)\n",
    "\n",
    "    mean = np.mean(d)\n",
    "    std = 1.95996*np.std(d)/np.sqrt(n)\n",
    "    lower_theory = mean-std\n",
    "    upper_theory = mean+std\n",
    "\n",
    "    ax.scatter(n, lower_theory-lower_bs,c='r')\n",
    "    ax.scatter(n, upper_theory-upper_bs,c='g')\n",
    "    plt.plot([0,n_max],[0,0])\n",
    "    \n",
    "plt.show()\n",
    "\n",
    "plt.hist(d,bins=10)\n",
    "plt.show()\n",
    "\n",
    "print(\"mean=%.4f\" %(np.mean(d)))\n",
    "print(\" \")\n",
    "print(\"Theory\")\n",
    "print(\"lower=%.4f upper=%.4f\" %(lower_theory, upper_theory))\n",
    "print(\" \")\n",
    "print(\"Bootstrapping\")\n",
    "print(\"lower=%.4f upper=%.4f\" %(lower_bs, upper_bs))\n"
   ]
  },
  {
   "cell_type": "code",
   "execution_count": null,
   "metadata": {
    "collapsed": true
   },
   "outputs": [],
   "source": []
  }
 ],
 "metadata": {
  "kernelspec": {
   "display_name": "Python 3",
   "language": "python",
   "name": "python3"
  },
  "language_info": {
   "codemirror_mode": {
    "name": "ipython",
    "version": 3
   },
   "file_extension": ".py",
   "mimetype": "text/x-python",
   "name": "python",
   "nbconvert_exporter": "python",
   "pygments_lexer": "ipython3",
   "version": "3.6.5"
  }
 },
 "nbformat": 4,
 "nbformat_minor": 2
}
